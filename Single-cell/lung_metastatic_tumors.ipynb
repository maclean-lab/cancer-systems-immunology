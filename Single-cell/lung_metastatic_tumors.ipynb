{
 "cells": [
  {
   "cell_type": "markdown",
   "metadata": {},
   "source": [
    "# Lung metastatic tumors"
   ]
  },
  {
   "cell_type": "code",
   "execution_count": null,
   "metadata": {},
   "outputs": [],
   "source": [
    "#load packages\n",
    "import numpy as np\n",
    "import pandas as pd\n",
    "import scanpy as sc\n",
    "import matplotlib.pyplot as plt\n",
    "from matplotlib.pyplot import rc_context\n",
    "import scanorama\n",
    "import seaborn as sb\n",
    "import scanpy.external as sce\n",
    "import scrublet as scr\n",
    "import doubletdetection\n",
    "\n",
    "%matplotlib inline"
   ]
  },
  {
   "cell_type": "code",
   "execution_count": null,
   "metadata": {},
   "outputs": [],
   "source": [
    "sc.settings.verbosity = 3      \n",
    "sc.logging.print_header()\n",
    "sc.settings.set_figure_params(dpi=80, facecolor='white')"
   ]
  },
  {
   "cell_type": "markdown",
   "metadata": {},
   "source": [
    "## Preprocessing"
   ]
  },
  {
   "cell_type": "code",
   "execution_count": null,
   "metadata": {},
   "outputs": [],
   "source": [
    "#load data from GEO (change file path as appropriate)\n",
    "#vehicle condition (V)\n",
    "V_1 = sc.read_10x_mtx(\n",
    "    '/Volumes/passport-external-drive/cellranger_count_output/V1_out/filtered_feature_bc_matrix/',  # the directory with the `.mtx` file\n",
    "    var_names='gene_symbols',                # use gene symbols for the variable names (variables-axis index)\n",
    "    cache=True)                              # write a cache file for faster subsequent reading\n",
    "\n",
    "V_2a = sc.read_10x_mtx(\n",
    "    '/Volumes/passport-external-drive/cellranger_count_output/V2a_out/filtered_feature_bc_matrix/',  # the directory with the `.mtx` file\n",
    "    var_names='gene_symbols',                # use gene symbols for the variable names (variables-axis index)\n",
    "    cache=True)                              # write a cache file for faster subsequent reading\n",
    "\n",
    "V_2b = sc.read_10x_mtx(\n",
    "    '/Volumes/passport-external-drive/cellranger_count_output/V2b_out/filtered_feature_bc_matrix/',  # the directory with the `.mtx` file\n",
    "    var_names='gene_symbols',                # use gene symbols for the variable names (variables-axis index)\n",
    "    cache=True)                              # write a cache file for faster subsequent reading\n",
    "\n",
    "V_2c = sc.read_10x_mtx(\n",
    "    '/Volumes/passport-external-drive/cellranger_count_output/V2c_out/filtered_feature_bc_matrix/',  # the directory with the `.mtx` file\n",
    "    var_names='gene_symbols',                # use gene symbols for the variable names (variables-axis index)\n",
    "    cache=True)                              # write a cache file for faster subsequent reading\n",
    "\n",
    "V_4a = sc.read_10x_mtx(\n",
    "    '/Volumes/passport-external-drive/cellranger_count_output/V4a_out/filtered_feature_bc_matrix/',  # the directory with the `.mtx` file\n",
    "    var_names='gene_symbols',                # use gene symbols for the variable names (variables-axis index)\n",
    "    cache=True)       "
   ]
  },
  {
   "cell_type": "code",
   "execution_count": null,
   "metadata": {},
   "outputs": [],
   "source": [
    "#Entinostat (E)\n",
    "E_2 = sc.read_10x_mtx(\n",
    "    '/Volumes/passport-external-drive/cellranger_count_output/E2_out/filtered_feature_bc_matrix/',  # the directory with the `.mtx` file\n",
    "    var_names='gene_symbols',                # use gene symbols for the variable names (variables-axis index)\n",
    "    cache=True)                              # write a cache file for faster subsequent reading\n",
    "\n",
    "E_3a = sc.read_10x_mtx(\n",
    "    '/Volumes/passport-external-drive/cellranger_count_output/E3a_out/filtered_feature_bc_matrix/',  # the directory with the `.mtx` file\n",
    "    var_names='gene_symbols',                # use gene symbols for the variable names (variables-axis index)\n",
    "    cache=True)                              # write a cache file for faster subsequent reading\n",
    "\n",
    "E_3b = sc.read_10x_mtx(\n",
    "    '/Volumes/passport-external-drive/cellranger_count_output/E3b_out/filtered_feature_bc_matrix/',  # the directory with the `.mtx` file\n",
    "    var_names='gene_symbols',                # use gene symbols for the variable names (variables-axis index)\n",
    "    cache=True)                              # write a cache file for faster subsequent reading\n",
    "\n",
    "E_4a = sc.read_10x_mtx(\n",
    "    '/Volumes/passport-external-drive/cellranger_count_output/E4a_out/filtered_feature_bc_matrix/',  # the directory with the `.mtx` file\n",
    "    var_names='gene_symbols',                # use gene symbols for the variable names (variables-axis index)\n",
    "    cache=True)                              # write a cache file for faster subsequent reading"
   ]
  },
  {
   "cell_type": "code",
   "execution_count": null,
   "metadata": {},
   "outputs": [],
   "source": [
    "#E + aPD1 (EP)\n",
    "EP_1 = sc.read_10x_mtx(\n",
    "    '/Volumes/passport-external-drive/cellranger_count_output/EP1_out/filtered_feature_bc_matrix/',  # the directory with the `.mtx` file\n",
    "    var_names='gene_symbols',                # use gene symbols for the variable names (variables-axis index)\n",
    "    cache=True)                              # write a cache file for faster subsequent reading\n",
    "\n",
    "EP_2a = sc.read_10x_mtx(\n",
    "    '/Volumes/passport-external-drive/cellranger_count_output/EP2a_out/filtered_feature_bc_matrix/',  # the directory with the `.mtx` file\n",
    "    var_names='gene_symbols',                # use gene symbols for the variable names (variables-axis index)\n",
    "    cache=True)                              # write a cache file for faster subsequent reading\n",
    "\n",
    "EP_2b = sc.read_10x_mtx(\n",
    "    '/Volumes/passport-external-drive/cellranger_count_output/EP2b_out/filtered_feature_bc_matrix/',  # the directory with the `.mtx` file\n",
    "    var_names='gene_symbols',                # use gene symbols for the variable names (variables-axis index)\n",
    "    cache=True)                              # write a cache file for faster subsequent reading\n",
    "\n",
    "EP_3b = sc.read_10x_mtx(\n",
    "    '/Volumes/passport-external-drive/cellranger_count_output/EP3b_out/filtered_feature_bc_matrix/',  # the directory with the `.mtx` file\n",
    "    var_names='gene_symbols',                # use gene symbols for the variable names (variables-axis index)\n",
    "    cache=True)                              # write a cache file for faster subsequent reading"
   ]
  },
  {
   "cell_type": "code",
   "execution_count": null,
   "metadata": {},
   "outputs": [],
   "source": [
    "#E + aCTLA4 (EC)\n",
    "EC_1 = sc.read_10x_mtx(\n",
    "    '/Volumes/passport-external-drive/cellranger_count_output/EC1_out/filtered_feature_bc_matrix/',  # the directory with the `.mtx` file\n",
    "    var_names='gene_symbols',                # use gene symbols for the variable names (variables-axis index)\n",
    "    cache=True)                              # write a cache file for faster subsequent reading\n",
    "\n",
    "EC_3a = sc.read_10x_mtx(\n",
    "    '/Volumes/passport-external-drive/cellranger_count_output/EC3a_out/filtered_feature_bc_matrix/',  # the directory with the `.mtx` file\n",
    "    var_names='gene_symbols',                # use gene symbols for the variable names (variables-axis index)\n",
    "    cache=True)                              # write a cache file for faster subsequent reading\n",
    "\n",
    "EC_4b = sc.read_10x_mtx(\n",
    "    '/Volumes/passport-external-drive/cellranger_count_output/EC4b_out/filtered_feature_bc_matrix/',  # the directory with the `.mtx` file\n",
    "    var_names='gene_symbols',                # use gene symbols for the variable names (variables-axis index)\n",
    "    cache=True)                              # write a cache file for faster subsequent reading\n",
    "\n",
    "EC_4c = sc.read_10x_mtx(\n",
    "    '/Volumes/passport-external-drive/cellranger_count_output/EC4c_out/filtered_feature_bc_matrix/',  # the directory with the `.mtx` file\n",
    "    var_names='gene_symbols',                # use gene symbols for the variable names (variables-axis index)\n",
    "    cache=True)                              # write a cache file for faster subsequent reading"
   ]
  },
  {
   "cell_type": "code",
   "execution_count": null,
   "metadata": {},
   "outputs": [],
   "source": [
    "#EPC\n",
    "EPC_1 = sc.read_10x_mtx(\n",
    "    '/Volumes/passport-external-drive/cellranger_count_output/EPC1_out/filtered_feature_bc_matrix/',  # the directory with the `.mtx` file\n",
    "    var_names='gene_symbols',                # use gene symbols for the variable names (variables-axis index)\n",
    "    cache=True)                              # write a cache file for faster subsequent reading\n",
    "\n",
    "EPC_3b = sc.read_10x_mtx(\n",
    "    '/Volumes/passport-external-drive/cellranger_count_output/EPC3b_out/filtered_feature_bc_matrix/',  # the directory with the `.mtx` file\n",
    "    var_names='gene_symbols',                # use gene symbols for the variable names (variables-axis index)\n",
    "    cache=True)                              # write a cache file for faster subsequent reading\n",
    "\n",
    "EPC_4a = sc.read_10x_mtx(\n",
    "    '/Volumes/passport-external-drive/cellranger_count_output/EPC4a_out/filtered_feature_bc_matrix/',  # the directory with the `.mtx` file\n",
    "    var_names='gene_symbols',                # use gene symbols for the variable names (variables-axis index)\n",
    "    cache=True)                              # write a cache file for faster subsequent reading"
   ]
  },
  {
   "cell_type": "code",
   "execution_count": null,
   "metadata": {},
   "outputs": [],
   "source": [
    "#PC\n",
    "PC_1 = sc.read_10x_mtx(\n",
    "    '/Volumes/passport-external-drive/cellranger_count_output/PC1_out/filtered_feature_bc_matrix/',  # the directory with the `.mtx` file\n",
    "    var_names='gene_symbols',                # use gene symbols for the variable names (variables-axis index)\n",
    "    cache=True)                              # write a cache file for faster subsequent reading\n",
    "\n",
    "PC_2a = sc.read_10x_mtx(\n",
    "    '/Volumes/passport-external-drive/cellranger_count_output/PC2a_out/filtered_feature_bc_matrix/',  # the directory with the `.mtx` file\n",
    "    var_names='gene_symbols',                # use gene symbols for the variable names (variables-axis index)\n",
    "    cache=True)                              # write a cache file for faster subsequent reading\n",
    "\n",
    "PC_2b = sc.read_10x_mtx(\n",
    "    '/Volumes/passport-external-drive/cellranger_count_output/PC2b_out/filtered_feature_bc_matrix/',  # the directory with the `.mtx` file\n",
    "    var_names='gene_symbols',                # use gene symbols for the variable names (variables-axis index)\n",
    "    cache=True)                              # write a cache file for faster subsequent reading\n",
    "\n",
    "PC_4a = sc.read_10x_mtx(\n",
    "    '/Volumes/passport-external-drive/cellranger_count_output/PC4a_out/filtered_feature_bc_matrix/',  # the directory with the `.mtx` file\n",
    "    var_names='gene_symbols',                # use gene symbols for the variable names (variables-axis index)\n",
    "    cache=True)                              # write a cache file for faster subsequent reading"
   ]
  },
  {
   "cell_type": "code",
   "execution_count": null,
   "metadata": {},
   "outputs": [],
   "source": [
    "V_1.var_names_make_unique()  # this is unnecessary if using `var_names='gene_ids'` in `sc.read_10x_mtx`\n",
    "V_2a.var_names_make_unique()  # this is unnecessary if using `var_names='gene_ids'` in `sc.read_10x_mtx`\n",
    "V_2b.var_names_make_unique()  # this is unnecessary if using `var_names='gene_ids'` in `sc.read_10x_mtx`\n",
    "V_2c.var_names_make_unique()  # this is unnecessary if using `var_names='gene_ids'` in `sc.read_10x_mtx`\n",
    "V_4a.var_names_make_unique()  # this is unnecessary if using `var_names='gene_ids'` in `sc.read_10x_mtx`"
   ]
  },
  {
   "cell_type": "code",
   "execution_count": null,
   "metadata": {},
   "outputs": [],
   "source": [
    "E_2.var_names_make_unique()  # this is unnecessary if using `var_names='gene_ids'` in `sc.read_10x_mtx`\n",
    "E_3a.var_names_make_unique()  # this is unnecessary if using `var_names='gene_ids'` in `sc.read_10x_mtx`\n",
    "E_3b.var_names_make_unique()  # this is unnecessary if using `var_names='gene_ids'` in `sc.read_10x_mtx`\n",
    "E_4a.var_names_make_unique()  # this is unnecessary if using `var_names='gene_ids'` in `sc.read_10x_mtx`"
   ]
  },
  {
   "cell_type": "code",
   "execution_count": null,
   "metadata": {},
   "outputs": [],
   "source": [
    "EP_1.var_names_make_unique()  # this is unnecessary if using `var_names='gene_ids'` in `sc.read_10x_mtx`\n",
    "EP_2a.var_names_make_unique()  # this is unnecessary if using `var_names='gene_ids'` in `sc.read_10x_mtx`\n",
    "EP_2b.var_names_make_unique()  # this is unnecessary if using `var_names='gene_ids'` in `sc.read_10x_mtx`\n",
    "EP_3b.var_names_make_unique()  # this is unnecessary if using `var_names='gene_ids'` in `sc.read_10x_mtx`"
   ]
  },
  {
   "cell_type": "code",
   "execution_count": null,
   "metadata": {},
   "outputs": [],
   "source": [
    "EC_1.var_names_make_unique()  # this is unnecessary if using `var_names='gene_ids'` in `sc.read_10x_mtx`\n",
    "EC_3a.var_names_make_unique()  # this is unnecessary if using `var_names='gene_ids'` in `sc.read_10x_mtx`\n",
    "EC_4b.var_names_make_unique()  # this is unnecessary if using `var_names='gene_ids'` in `sc.read_10x_mtx`\n",
    "EC_4c.var_names_make_unique()  # this is unnecessary if using `var_names='gene_ids'` in `sc.read_10x_mtx`"
   ]
  },
  {
   "cell_type": "code",
   "execution_count": null,
   "metadata": {},
   "outputs": [],
   "source": [
    "EPC_1.var_names_make_unique()  # this is unnecessary if using `var_names='gene_ids'` in `sc.read_10x_mtx`\n",
    "EPC_3b.var_names_make_unique()  # this is unnecessary if using `var_names='gene_ids'` in `sc.read_10x_mtx`\n",
    "EPC_4a.var_names_make_unique()  # this is unnecessary if using `var_names='gene_ids'` in `sc.read_10x_mtx`"
   ]
  },
  {
   "cell_type": "code",
   "execution_count": null,
   "metadata": {},
   "outputs": [],
   "source": [
    "PC_1.var_names_make_unique()  # this is unnecessary if using `var_names='gene_ids'` in `sc.read_10x_mtx`\n",
    "PC_2a.var_names_make_unique()  # this is unnecessary if using `var_names='gene_ids'` in `sc.read_10x_mtx`\n",
    "PC_2b.var_names_make_unique()  # this is unnecessary if using `var_names='gene_ids'` in `sc.read_10x_mtx`\n",
    "PC_4a.var_names_make_unique()  # this is unnecessary if using `var_names='gene_ids'` in `sc.read_10x_mtx`"
   ]
  },
  {
   "cell_type": "code",
   "execution_count": null,
   "metadata": {},
   "outputs": [],
   "source": [
    "#annotate samples\n",
    "V_1.obs[\"treatment\"] = \"V\"\n",
    "V_2a.obs[\"treatment\"] = \"V\"\n",
    "V_2b.obs[\"treatment\"] = \"V\"\n",
    "V_2c.obs[\"treatment\"] = \"V\"\n",
    "V_4a.obs[\"treatment\"] = \"V\""
   ]
  },
  {
   "cell_type": "code",
   "execution_count": null,
   "metadata": {},
   "outputs": [],
   "source": [
    "E_2.obs[\"treatment\"] = \"E\"\n",
    "E_3a.obs[\"treatment\"] = \"E\"\n",
    "E_3b.obs[\"treatment\"] = \"E\"\n",
    "E_4a.obs[\"treatment\"] = \"E\""
   ]
  },
  {
   "cell_type": "code",
   "execution_count": null,
   "metadata": {},
   "outputs": [],
   "source": [
    "EP_1.obs[\"treatment\"] = \"EP\"\n",
    "EP_2a.obs[\"treatment\"] = \"EP\"\n",
    "EP_2b.obs[\"treatment\"] = \"EP\"\n",
    "EP_3b.obs[\"treatment\"] = \"EP\""
   ]
  },
  {
   "cell_type": "code",
   "execution_count": null,
   "metadata": {},
   "outputs": [],
   "source": [
    "EC_1.obs[\"treatment\"] = \"EC\"\n",
    "EC_3a.obs[\"treatment\"] = \"EC\"\n",
    "EC_4b.obs[\"treatment\"] = \"EC\"\n",
    "EC_4c.obs[\"treatment\"] = \"EC\""
   ]
  },
  {
   "cell_type": "code",
   "execution_count": null,
   "metadata": {},
   "outputs": [],
   "source": [
    "EPC_1.obs[\"treatment\"] = \"EPC\"\n",
    "EPC_3b.obs[\"treatment\"] = \"EPC\"\n",
    "EPC_4a.obs[\"treatment\"] = \"EPC\""
   ]
  },
  {
   "cell_type": "code",
   "execution_count": null,
   "metadata": {},
   "outputs": [],
   "source": [
    "PC_1.obs[\"treatment\"] = \"PC\"\n",
    "PC_2a.obs[\"treatment\"] = \"PC\"\n",
    "PC_2b.obs[\"treatment\"] = \"PC\"\n",
    "PC_4a.obs[\"treatment\"] = \"PC\""
   ]
  },
  {
   "cell_type": "code",
   "execution_count": null,
   "metadata": {},
   "outputs": [],
   "source": [
    "V_1.obs[\"sample_name\"] = \"V1\"\n",
    "V_2a.obs[\"sample_name\"] = \"V2a\"\n",
    "V_2b.obs[\"sample_name\"] = \"V2b\"\n",
    "V_2c.obs[\"sample_name\"] = \"V2c\"\n",
    "V_4a.obs[\"sample_name\"] = \"V4a\""
   ]
  },
  {
   "cell_type": "code",
   "execution_count": null,
   "metadata": {},
   "outputs": [],
   "source": [
    "E_2.obs[\"sample_name\"] = \"E2\"\n",
    "E_3a.obs[\"sample_name\"] = \"E3a\"\n",
    "E_3b.obs[\"sample_name\"] = \"E3b\"\n",
    "E_4a.obs[\"sample_name\"] = \"E4a\""
   ]
  },
  {
   "cell_type": "code",
   "execution_count": null,
   "metadata": {},
   "outputs": [],
   "source": [
    "EP_1.obs[\"sample_name\"] = \"EP1\"\n",
    "EP_2a.obs[\"sample_name\"] = \"EP2a\"\n",
    "EP_2b.obs[\"sample_name\"] = \"EP2b\"\n",
    "EP_3b.obs[\"sample_name\"] = \"EP3b\""
   ]
  },
  {
   "cell_type": "code",
   "execution_count": null,
   "metadata": {},
   "outputs": [],
   "source": [
    "EC_1.obs[\"sample_name\"] = \"EC1\"\n",
    "EC_3a.obs[\"sample_name\"] = \"EC3a\"\n",
    "EC_4b.obs[\"sample_name\"] = \"EC4b\"\n",
    "EC_4c.obs[\"sample_name\"] = \"EC4c\""
   ]
  },
  {
   "cell_type": "code",
   "execution_count": null,
   "metadata": {},
   "outputs": [],
   "source": [
    "EPC_1.obs[\"sample_name\"] = \"EPC1\"\n",
    "EPC_3b.obs[\"sample_name\"] = \"EPC3b\"\n",
    "EPC_4a.obs[\"sample_name\"] = \"EPC4a\""
   ]
  },
  {
   "cell_type": "code",
   "execution_count": null,
   "metadata": {},
   "outputs": [],
   "source": [
    "PC_1.obs[\"sample_name\"] = \"PC1\"\n",
    "PC_2a.obs[\"sample_name\"] = \"PC2a\"\n",
    "PC_2b.obs[\"sample_name\"] = \"PC2b\"\n",
    "PC_4a.obs[\"sample_name\"] = \"PC4a\""
   ]
  },
  {
   "cell_type": "code",
   "execution_count": null,
   "metadata": {
    "tags": []
   },
   "outputs": [],
   "source": [
    "Exp_1 = V_1.concatenate(EP_1, EC_1, EPC_1, PC_1, batch_key='batch')\n",
    "Exp_2 = V_2a.concatenate(V_2b, V_2c, E_2, EP_2a, EP_2b, PC_2a, PC_2b, batch_key='batch')\n",
    "Exp_3 = E_3a.concatenate(E_3b, EP_3b, EC_3a, EPC_3b, batch_key='batch')\n",
    "Exp_4 = V_4a.concatenate(E_4a, EC_4b, EC_4c, EPC_4a, PC_4a, batch_key='batch')"
   ]
  },
  {
   "cell_type": "code",
   "execution_count": null,
   "metadata": {},
   "outputs": [],
   "source": [
    "adata = Exp_1.concatenate(Exp_2, Exp_3, Exp_4, batch_key='batch')"
   ]
  },
  {
   "cell_type": "code",
   "execution_count": null,
   "metadata": {},
   "outputs": [],
   "source": [
    "new_batch_names = [\n",
    "    '1', '2',\n",
    "    '3', '4']\n",
    "adata.rename_categories('batch', new_batch_names)"
   ]
  },
  {
   "cell_type": "code",
   "execution_count": null,
   "metadata": {},
   "outputs": [],
   "source": [
    "#concatenate all data together \n",
    "adata"
   ]
  },
  {
   "cell_type": "code",
   "execution_count": null,
   "metadata": {},
   "outputs": [],
   "source": [
    "sc.pl.highest_expr_genes(adata, n_top=20)"
   ]
  },
  {
   "cell_type": "code",
   "execution_count": null,
   "metadata": {},
   "outputs": [],
   "source": [
    "#doublet detection \n",
    "clf = doubletdetection.BoostClassifier(clustering_algorithm=\"louvain\")\n",
    "doublets = clf.fit(adata.X).predict()\n",
    "doublet_score = clf.doublet_score()\n",
    "adata.obs[\"doublet\"] = doublets\n",
    "adata.obs[\"doublet_score\"] = doublet_score\n",
    "f = doubletdetection.plot.convergence(clf, show=True)"
   ]
  },
  {
   "cell_type": "code",
   "execution_count": null,
   "metadata": {},
   "outputs": [],
   "source": [
    "#basic filtering\n",
    "min_genes_threshold = 200 # minimum genes threshold\n",
    "max_genes_threshold = 8000 # maximum genes threshold\n",
    "min_cells_threshold = 3 # minimum cells threshold"
   ]
  },
  {
   "cell_type": "code",
   "execution_count": null,
   "metadata": {},
   "outputs": [],
   "source": [
    "sc.pp.filter_cells(adata, min_genes=min_genes_threshold)\n",
    "sc.pp.filter_cells(adata, max_genes=max_genes_threshold)\n",
    "sc.pp.filter_genes(adata, min_cells=min_cells_threshold)"
   ]
  },
  {
   "cell_type": "code",
   "execution_count": null,
   "metadata": {},
   "outputs": [],
   "source": [
    "adata.var['mt'] = adata.var_names.str.startswith('mt-')  # annotate the group of mitochondrial genes as 'mt'\n",
    "sc.pp.calculate_qc_metrics(adata, qc_vars=['mt'], percent_top=None, log1p=False, inplace=True)"
   ]
  },
  {
   "cell_type": "code",
   "execution_count": null,
   "metadata": {},
   "outputs": [],
   "source": [
    "sc.pl.violin(adata, ['n_genes_by_counts', 'total_counts', 'pct_counts_mt'],\n",
    "             jitter=0.4, multi_panel=True)"
   ]
  },
  {
   "cell_type": "code",
   "execution_count": null,
   "metadata": {},
   "outputs": [],
   "source": [
    "fig, axs = plt.subplots(1, 2, figsize=(8,4),constrained_layout=True)\n",
    "sc.pl.scatter(adata, x='total_counts', y='pct_counts_mt', ax=axs[0], show=False)\n",
    "sc.pl.scatter(adata, x='total_counts', y='n_genes_by_counts', ax=axs[1], show=False)"
   ]
  },
  {
   "cell_type": "code",
   "execution_count": null,
   "metadata": {},
   "outputs": [],
   "source": [
    "fig, axs = plt.subplots(1, 3, figsize=(12,4),constrained_layout=True)\n",
    "sb.distplot(adata.obs['total_counts'], kde=False, bins=60,  ax=axs[0])\n",
    "sb.distplot(adata.obs['n_genes_by_counts'], kde=False, bins=60,  ax=axs[1])\n",
    "sb.distplot(adata.obs['pct_counts_mt'], kde=False, bins=100,  ax=axs[2])"
   ]
  },
  {
   "cell_type": "code",
   "execution_count": null,
   "metadata": {},
   "outputs": [],
   "source": [
    "genes_by_counts_threshold = 8000 # genes threshold\n",
    "mt_count_threshold = 15 # mt threshold"
   ]
  },
  {
   "cell_type": "code",
   "execution_count": null,
   "metadata": {},
   "outputs": [],
   "source": [
    "#filter \n",
    "adata = adata[adata.obs.n_genes_by_counts < genes_by_counts_threshold, :]\n",
    "adata = adata[adata.obs.pct_counts_mt < mt_count_threshold, :]"
   ]
  },
  {
   "cell_type": "code",
   "execution_count": null,
   "metadata": {},
   "outputs": [],
   "source": [
    "target_sum_threshold = 1e4"
   ]
  },
  {
   "cell_type": "code",
   "execution_count": null,
   "metadata": {},
   "outputs": [],
   "source": [
    "#normalize\n",
    "sc.pp.normalize_total(adata, target_sum=target_sum_threshold)"
   ]
  },
  {
   "cell_type": "code",
   "execution_count": null,
   "metadata": {},
   "outputs": [],
   "source": [
    "sc.pp.log1p(adata)"
   ]
  },
  {
   "cell_type": "code",
   "execution_count": null,
   "metadata": {},
   "outputs": [],
   "source": [
    "threshold_1 = 0.0125\n",
    "threshold_2 = 3\n",
    "threshold_3 = 0.5"
   ]
  },
  {
   "cell_type": "code",
   "execution_count": null,
   "metadata": {},
   "outputs": [],
   "source": [
    "#highly variable genes\n",
    "sc.pp.highly_variable_genes(adata, min_mean=threshold_1, max_mean=threshold_2, min_disp=threshold_3)"
   ]
  },
  {
   "cell_type": "code",
   "execution_count": null,
   "metadata": {},
   "outputs": [],
   "source": [
    "sc.pl.highly_variable_genes(adata)"
   ]
  },
  {
   "cell_type": "code",
   "execution_count": null,
   "metadata": {},
   "outputs": [],
   "source": [
    "adata.raw = adata"
   ]
  },
  {
   "cell_type": "code",
   "execution_count": null,
   "metadata": {},
   "outputs": [],
   "source": [
    "adata = adata[:, adata.var.highly_variable]"
   ]
  },
  {
   "cell_type": "code",
   "execution_count": null,
   "metadata": {},
   "outputs": [],
   "source": [
    "#regress out total counts and mt percentage\n",
    "sc.pp.regress_out(adata, ['total_counts', 'pct_counts_mt'])"
   ]
  },
  {
   "cell_type": "markdown",
   "metadata": {},
   "source": [
    "Scale each gene to unit variance. Clip values exceeding standard deviation 10. "
   ]
  },
  {
   "cell_type": "code",
   "execution_count": null,
   "metadata": {},
   "outputs": [],
   "source": [
    "sc.pp.scale(adata, max_value=10)"
   ]
  },
  {
   "cell_type": "code",
   "execution_count": null,
   "metadata": {},
   "outputs": [],
   "source": [
    "adata"
   ]
  },
  {
   "cell_type": "markdown",
   "metadata": {},
   "source": [
    "## Batch correction"
   ]
  },
  {
   "cell_type": "code",
   "execution_count": null,
   "metadata": {},
   "outputs": [],
   "source": [
    "#create a new object with lognormalized counts\n",
    "adata_combat = sc.AnnData(X=adata.raw.X, var=adata.raw.var, obs = adata.obs)\n",
    "\n",
    "#store the raw data \n",
    "adata_combat.raw = adata_combat\n",
    "\n",
    "#run combat\n",
    "sc.pp.combat(adata_combat, key='batch')"
   ]
  },
  {
   "cell_type": "code",
   "execution_count": null,
   "metadata": {},
   "outputs": [],
   "source": [
    "sc.pp.highly_variable_genes(adata_combat)\n",
    "print(\"Highly variable genes: %d\"%sum(adata_combat.var.highly_variable))\n",
    "sc.pl.highly_variable_genes(adata_combat)\n",
    "\n",
    "#run pca\n",
    "sc.pp.pca(adata_combat, n_comps=30, use_highly_variable=True, svd_solver='arpack')\n",
    "\n",
    "sc.pp.neighbors(adata_combat, n_pcs=30)\n",
    "\n",
    "sc.tl.umap(adata_combat)\n",
    "sc.tl.tsne(adata_combat, n_pcs=30)"
   ]
  },
  {
   "cell_type": "code",
   "execution_count": null,
   "metadata": {},
   "outputs": [],
   "source": [
    "fig, axs = plt.subplots(2, 1, figsize=(8,8),constrained_layout=True)\n",
    "sc.pl.tsne(adata_combat, color=\"batch\", title=\"Combat tsne\", ax=axs[0,0], show=False)\n",
    "sc.pl.umap(adata_combat, color=\"batch\", title=\"Combat umap\", ax=axs[1,0], show=False)"
   ]
  },
  {
   "cell_type": "code",
   "execution_count": null,
   "metadata": {},
   "outputs": [],
   "source": [
    "sc.pl.umap(adata_combat, color=[\"batch\", \"treatment\", \"doublet\", \"doublet_score\", \"sample_name\"])"
   ]
  },
  {
   "cell_type": "markdown",
   "metadata": {},
   "source": [
    "## Cluster data"
   ]
  },
  {
   "cell_type": "code",
   "execution_count": null,
   "metadata": {},
   "outputs": [],
   "source": [
    "adata_combat"
   ]
  },
  {
   "cell_type": "code",
   "execution_count": null,
   "metadata": {},
   "outputs": [],
   "source": [
    "sc.pl.umap(adata_combat, color=[\"batch\", \"treatment\", \"doublet\", \"doublet_score\", \"sample_name\"])"
   ]
  },
  {
   "cell_type": "code",
   "execution_count": null,
   "metadata": {},
   "outputs": [],
   "source": [
    "threshold_1 = 0.0125\n",
    "threshold_2 = 3\n",
    "threshold_3 = 0.5"
   ]
  },
  {
   "cell_type": "code",
   "execution_count": null,
   "metadata": {},
   "outputs": [],
   "source": [
    "sc.pp.highly_variable_genes(adata_combat, min_mean=threshold_1, max_mean=threshold_2, min_disp=threshold_3)"
   ]
  },
  {
   "cell_type": "code",
   "execution_count": null,
   "metadata": {},
   "outputs": [],
   "source": [
    "adata_combat = adata_combat[:, adata_combat.var.highly_variable]"
   ]
  },
  {
   "cell_type": "code",
   "execution_count": null,
   "metadata": {},
   "outputs": [],
   "source": [
    "adata_combat"
   ]
  },
  {
   "cell_type": "code",
   "execution_count": null,
   "metadata": {},
   "outputs": [],
   "source": [
    "#check expression of marker genes\n",
    "sc.pl.umap(adata_combat, color=['Lcn2', 'Wfdc2'])\n",
    "sc.pl.umap(adata_combat, color=['Mmp2', 'Col12a1'])\n",
    "sc.pl.umap(adata_combat, color=['Adgre1', 'Itgam', 'Plac8', 'Cd14', 'Cd84', 'S100a8', 'S100a9', 'Ly6g', 'Ly6c1'])\n",
    "sc.pl.umap(adata_combat, color=['Adgre1', 'Itgam', 'Plac8', 'Cd14', 'Cd84', 'Tnf', 'Ly6g', 'Ly6c1'])\n",
    "sc.pl.umap(adata_combat, color=['Cd3e', 'Cd4', 'Foxp3', 'Icos', 'Il2ra', 'Ctla4', 'Pdcd1'])\n",
    "sc.pl.umap(adata_combat, color=['Cd3e', 'Cd4'])\n",
    "sc.pl.umap(adata_combat, color=['Cd3e', 'Cd8a'])\n",
    "sc.pl.umap(adata_combat, color=['Cd3e', 'Cd19'])\n",
    "sc.pl.umap(adata_combat, color=['Adgre1', 'Itgam', 'Cx3cr1', 'Ccr2'])\n",
    "sc.pl.umap(adata_combat, color=['Adgre1', 'Itgam', 'Ccr5', 'Il6', 'Il1b', 'Cd86', 'H2-Ab1'])\n",
    "sc.pl.umap(adata_combat, color=['Adgre1', 'Itgam', 'Ccr5', 'Mrc1', 'Il10', 'Cd163', 'Arg1'])\n",
    "sc.pl.umap(adata_combat, color=['Itgax', 'Flt3', 'Itgae', 'Btla', 'H2-Ab1', 'Ccr7'])"
   ]
  },
  {
   "cell_type": "code",
   "execution_count": null,
   "metadata": {},
   "outputs": [],
   "source": [
    "#cluster\n",
    "resolution_number = 0.1 \n",
    "sc.tl.louvain(adata_combat, resolution = resolution_number, key_added = \"louvain\")\n",
    "sc.pl.umap(adata_combat, color=['louvain'])"
   ]
  },
  {
   "cell_type": "code",
   "execution_count": null,
   "metadata": {},
   "outputs": [],
   "source": [
    "#find differentially expressed genes\n",
    "sc.tl.rank_genes_groups(adata_combat, 'louvain', method='wilcoxon')\n",
    "sc.pl.rank_genes_groups(adata_combat, n_genes=25, sharey=False)"
   ]
  },
  {
   "cell_type": "code",
   "execution_count": null,
   "metadata": {},
   "outputs": [],
   "source": [
    "pd.DataFrame(adata_combat.uns['rank_genes_groups']['names']).head(10)"
   ]
  },
  {
   "cell_type": "code",
   "execution_count": null,
   "metadata": {},
   "outputs": [],
   "source": [
    "#create a dictionary to map cluster to annotation label\n",
    "cluster2annotation = {\n",
    "     '0': 'MDSCs',\n",
    "     '1': 'T cells',\n",
    "     '2': 'Mature myeloid',\n",
    "     '3': 'Endothelial',\n",
    "     '4': 'Lipofibroblasts',\n",
    "     '5': 'Cancer',\n",
    "     '6': 'NK cells',\n",
    "     '7': 'B cells',\n",
    "}\n",
    "\n",
    "# add a new `.obs` column called `cell type` by mapping clusters to annotation using pandas `map` function\n",
    "adata_combat.obs['clusters'] = adata_combat.obs['louvain'].map(cluster2annotation).astype('category')"
   ]
  },
  {
   "cell_type": "code",
   "execution_count": null,
   "metadata": {},
   "outputs": [],
   "source": [
    "sc.pl.umap(adata_combat, color=['louvain', 'clusters'])"
   ]
  },
  {
   "cell_type": "code",
   "execution_count": null,
   "metadata": {},
   "outputs": [],
   "source": [
    "marker_genes_dict_ordered = {\n",
    "    'Cancer': ['Wfdc2', 'Erbb2', 'Col9a1'],\n",
    "    'Endothelial': ['Ly6c1', 'Pecam1', 'Bsg'],\n",
    "    'Lipofibroblasts': ['Chil3', 'Ear1', 'Mrc1'],\n",
    "    'Mature myeloid': ['Csf1r', 'Ccr2', 'Cx3cr1'],\n",
    "    'MDSCs': ['Wfdc17', 'S100a9', 'Arg2'],\n",
    "    'T cells': ['Cd3e', 'Icos', 'Cd5'],\n",
    "    'NK cells': ['Ncr1', 'Gzmb', 'Klrb1c'],\n",
    "    'B cells': ['Cd79a', 'Ighm', 'Iglc3'],\n",
    "}"
   ]
  },
  {
   "cell_type": "code",
   "execution_count": null,
   "metadata": {},
   "outputs": [],
   "source": [
    "sc.pl.dotplot(adata_combat, marker_genes_dict_ordered, 'clusters', dendrogram=False, swap_axes=True, categories_order = [\"Cancer\", \"Lung\", \"Lipofibroblasts\", \"Monocytes/macrophages\", \"MDSCs\", \"T cells\", \"NK cells\", \"B cells\"])"
   ]
  },
  {
   "cell_type": "code",
   "execution_count": null,
   "metadata": {},
   "outputs": [],
   "source": []
  },
  {
   "cell_type": "code",
   "execution_count": null,
   "metadata": {},
   "outputs": [],
   "source": []
  },
  {
   "cell_type": "code",
   "execution_count": null,
   "metadata": {},
   "outputs": [],
   "source": []
  }
 ],
 "metadata": {
  "anaconda-cloud": {},
  "kernelspec": {
   "display_name": "Python 3 (ipykernel)",
   "language": "python",
   "name": "python3"
  },
  "language_info": {
   "codemirror_mode": {
    "name": "ipython",
    "version": 3
   },
   "file_extension": ".py",
   "mimetype": "text/x-python",
   "name": "python",
   "nbconvert_exporter": "python",
   "pygments_lexer": "ipython3",
   "version": "3.10.10"
  }
 },
 "nbformat": 4,
 "nbformat_minor": 4
}
