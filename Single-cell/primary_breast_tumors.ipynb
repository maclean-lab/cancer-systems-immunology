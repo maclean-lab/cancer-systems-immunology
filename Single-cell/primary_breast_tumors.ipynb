{
 "cells": [
  {
   "cell_type": "markdown",
   "metadata": {},
   "source": [
    "# Primary breast tumors"
   ]
  },
  {
   "cell_type": "code",
   "execution_count": null,
   "metadata": {},
   "outputs": [],
   "source": [
    "#load packages\n",
    "import numpy as np\n",
    "import pandas as pd\n",
    "import scanpy as sc\n",
    "import matplotlib.pyplot as plt\n",
    "from matplotlib.pyplot import rc_context\n",
    "import seaborn as sb\n",
    "import scanpy.external as sce\n",
    "\n",
    "%matplotlib inline"
   ]
  },
  {
   "cell_type": "code",
   "execution_count": null,
   "metadata": {},
   "outputs": [],
   "source": [
    "sc.settings.verbosity = 3             \n",
    "sc.logging.print_header()\n",
    "sc.settings.set_figure_params(dpi=80, facecolor='white')"
   ]
  },
  {
   "cell_type": "markdown",
   "metadata": {},
   "source": [
    "## Preprocessing"
   ]
  },
  {
   "cell_type": "code",
   "execution_count": null,
   "metadata": {},
   "outputs": [],
   "source": [
    "#load data from GEO (change file path as appropriate)\n",
    "adata_aggr = sc.read(\"GSE166321_aggrmatrix.mtx\", cache=True, make_unique=False)"
   ]
  },
  {
   "cell_type": "code",
   "execution_count": null,
   "metadata": {},
   "outputs": [],
   "source": [
    "adata_aggr"
   ]
  },
  {
   "cell_type": "code",
   "execution_count": null,
   "metadata": {},
   "outputs": [],
   "source": [
    "adata_aggr = adata_aggr.transpose()"
   ]
  },
  {
   "cell_type": "code",
   "execution_count": null,
   "metadata": {},
   "outputs": [],
   "source": [
    "#add metadata\n",
    "barcodes_aggr = pd.read_csv(\"GSE166321_aggrbarcodes.tsv\", sep='\\t', header=None, names=['barcode','run']) #need to have a run column for both\n",
    "geneNames_aggr = pd.read_csv(\"GSE166321_aggrfeatures.tsv\", sep='\\t', header=None, names=['gene_id', 'gene_short_name', 'type'])\n",
    "\n",
    "adata_aggr.obs_names = barcodes_aggr['barcode']\n",
    "adata_aggr.var_names = geneNames_aggr['gene_id']\n",
    "adata_aggr.var['gene_short_name'] = geneNames_aggr['gene_short_name'].values"
   ]
  },
  {
   "cell_type": "code",
   "execution_count": null,
   "metadata": {},
   "outputs": [],
   "source": [
    "adata_aggr"
   ]
  },
  {
   "cell_type": "code",
   "execution_count": null,
   "metadata": {},
   "outputs": [],
   "source": [
    "adata_V1 = sc.read(\"data_wtilv1_matrix.mtx\", cache=True, make_unique=False)\n",
    "adata_V1 = adata_V1.transpose()\n",
    "\n",
    "barcodes_V1 = pd.read_csv(\"data_wtilv1_barcodes.tsv\", sep='\\t', header=None, names=['barcode','run']) #need to have a run column for both\n",
    "geneNames_V1 = pd.read_csv(\"data_wtilv1_features.tsv\", sep='\\t', header=None, names=['gene_id', 'gene_short_name', 'type'])\n",
    "\n",
    "adata_V1.obs_names = barcodes_V1['barcode']\n",
    "adata_V1.var_names = geneNames_V1['gene_id']\n",
    "adata_V1.var['gene_short_name'] = geneNames_V1['gene_short_name'].values"
   ]
  },
  {
   "cell_type": "code",
   "execution_count": null,
   "metadata": {},
   "outputs": [],
   "source": [
    "adata_V1"
   ]
  },
  {
   "cell_type": "code",
   "execution_count": null,
   "metadata": {},
   "outputs": [],
   "source": [
    "adata_V2 = sc.read(\"data_wtilv2_matrix.mtx\", cache=True, make_unique=False)\n",
    "adata_V2 = adata_V2.transpose()\n",
    "\n",
    "barcodes_V2 = pd.read_csv(\"data_wtilv2_barcodes.tsv\", sep='\\t', header=None, names=['barcode','run']) #need to have a run column for both\n",
    "geneNames_V2 = pd.read_csv(\"data_wtilv2_features.tsv\", sep='\\t', header=None, names=['gene_id', 'gene_short_name', 'type'])\n",
    "\n",
    "adata_V2.obs_names = barcodes_V2['barcode']\n",
    "adata_V2.var_names = geneNames_V2['gene_id']\n",
    "adata_V2.var['gene_short_name'] = geneNames_V2['gene_short_name'].values"
   ]
  },
  {
   "cell_type": "code",
   "execution_count": null,
   "metadata": {},
   "outputs": [],
   "source": [
    "adata_V2"
   ]
  },
  {
   "cell_type": "code",
   "execution_count": null,
   "metadata": {},
   "outputs": [],
   "source": [
    "adata_E1 = sc.read(\"data_wtile1_matrix.mtx\", cache=True, make_unique=False)\n",
    "adata_E1 = adata_E1.transpose()\n",
    "\n",
    "barcodes_E1 = pd.read_csv(\"data_wtile1_barcodes.tsv\", sep='\\t', header=None, names=['barcode','run']) #need to have a run column for both\n",
    "geneNames_E1 = pd.read_csv(\"data_wtile1_features.tsv\", sep='\\t', header=None, names=['gene_id', 'gene_short_name', 'type'])\n",
    "\n",
    "adata_E1.obs_names = barcodes_E1['barcode']\n",
    "adata_E1.var_names = geneNames_E1['gene_id']\n",
    "adata_E1.var['gene_short_name'] = geneNames_E1['gene_short_name'].values"
   ]
  },
  {
   "cell_type": "code",
   "execution_count": null,
   "metadata": {},
   "outputs": [],
   "source": [
    "adata_E1"
   ]
  },
  {
   "cell_type": "code",
   "execution_count": null,
   "metadata": {},
   "outputs": [],
   "source": [
    "adata_E2 = sc.read(\"data_wtile2_matrix.mtx\", cache=True, make_unique=False)\n",
    "adata_E2 = adata_E2.transpose()\n",
    "\n",
    "barcodes_E2 = pd.read_csv(\"data_wtile2_barcodes.tsv\", sep='\\t', header=None, names=['barcode','run']) #need to have a run column for both\n",
    "geneNames_E2 = pd.read_csv(\"data_wtile2_features.tsv\", sep='\\t', header=None, names=['gene_id', 'gene_short_name', 'type'])\n",
    "\n",
    "adata_E2.obs_names = barcodes_E2['barcode']\n",
    "adata_E2.var_names = geneNames_E2['gene_id']\n",
    "adata_E2.var['gene_short_name'] = geneNames_E2['gene_short_name'].values"
   ]
  },
  {
   "cell_type": "code",
   "execution_count": null,
   "metadata": {},
   "outputs": [],
   "source": [
    "adata_E2"
   ]
  },
  {
   "cell_type": "code",
   "execution_count": null,
   "metadata": {},
   "outputs": [],
   "source": [
    "adata_V1.obs[\"treatment\"] = \"V\"\n",
    "adata_V1.obs[\"run\"] = \"pilot1\"\n",
    "\n",
    "adata_V2.obs[\"treatment\"] = \"V\"\n",
    "adata_V2.obs[\"run\"] = \"pilot2\"\n",
    "\n",
    "adata_E1.obs[\"treatment\"] = \"E\"\n",
    "adata_E1.obs[\"run\"] = \"pilot1\"\n",
    "\n",
    "adata_E2.obs[\"treatment\"] = \"E\"\n",
    "adata_E2.obs[\"run\"] = \"pilot2\""
   ]
  },
  {
   "cell_type": "code",
   "execution_count": null,
   "metadata": {},
   "outputs": [],
   "source": [
    "pilot1 = adata_V1.concatenate(adata_E1, batch_key='batch_sub')\n",
    "pilot2 = adata_V2.concatenate(adata_E2, batch_key='batch_sub')"
   ]
  },
  {
   "cell_type": "code",
   "execution_count": null,
   "metadata": {},
   "outputs": [],
   "source": [
    "pilot1"
   ]
  },
  {
   "cell_type": "code",
   "execution_count": null,
   "metadata": {},
   "outputs": [],
   "source": [
    "pilot2"
   ]
  },
  {
   "cell_type": "code",
   "execution_count": null,
   "metadata": {},
   "outputs": [],
   "source": [
    "list_aggr_barcodes = pd.read_csv('GSE166321_aggrbarcodes.tsv',sep='\\t',header=None).squeeze().str.strip().tolist()\n",
    "\n",
    "\n",
    "list_AE3DGELIB_barcodes = pd.read_csv('AE3DGELIB_barcodes.tsv',sep='\\t',header=None).squeeze().str.strip().tolist()\n",
    "list_AEC13DGELIB_barcodes = pd.read_csv('AEC13DGELIB_barcodes.tsv',sep='\\t',header=None).squeeze().str.strip().tolist()\n",
    "list_AEC23DGELIB_barcodes = pd.read_csv('AEC23DGELIB_barcodes.tsv',sep='\\t',header=None).squeeze().str.strip().tolist()\n",
    "list_AEP13DGELIB_barcodes = pd.read_csv('AEP13DGELIB_barcodes.tsv',sep='\\t',header=None).squeeze().str.strip().tolist()\n",
    "list_AEP23DGELIB_barcodes = pd.read_csv('AEP23DGELIB_barcodes.tsv',sep='\\t',header=None).squeeze().str.strip().tolist()\n",
    "list_AEPC13DGELIB_barcodes = pd.read_csv('AEPC13DGELIB_barcodes.tsv',sep='\\t',header=None).squeeze().str.strip().tolist()\n",
    "list_AEPC23DGELIB_barcodes = pd.read_csv('AEPC23DGELIB_barcodes.tsv',sep='\\t',header=None).squeeze().str.strip().tolist()\n",
    "list_AV3DGELIB_barcodes = pd.read_csv('AV3DGELIB_barcodes.tsv',sep='\\t',header=None).squeeze().str.strip().tolist()\n",
    "list_BE3DGELIB_barcodes = pd.read_csv('BE3DGELIB_barcodes.tsv',sep='\\t',header=None).squeeze().str.strip().tolist()\n",
    "list_BEC13DGELIB_barcodes = pd.read_csv('BEC13DGELIB_barcodes.tsv',sep='\\t',header=None).squeeze().str.strip().tolist()\n",
    "list_BEC23DGELIB_barcodes = pd.read_csv('BEC23DGELIB_barcodes.tsv',sep='\\t',header=None).squeeze().str.strip().tolist()\n",
    "list_BEP13DGELIB_barcodes = pd.read_csv('BEP13DGELIB_barcodes.tsv',sep='\\t',header=None).squeeze().str.strip().tolist()\n",
    "list_BEP23DGELIB_barcodes = pd.read_csv('BEP23DGELIB_barcodes.tsv',sep='\\t',header=None).squeeze().str.strip().tolist()\n",
    "list_BEPC13DGELIB_barcodes = pd.read_csv('BEPC13DGELIB_barcodes.tsv',sep='\\t',header=None).squeeze().str.strip().tolist()\n",
    "list_BEPC23DGELIB_barcodes = pd.read_csv('BEPC23DGELIB_barcodes.tsv',sep='\\t',header=None).squeeze().str.strip().tolist()\n",
    "list_BV3DGELIB_barcodes = pd.read_csv('BV3DGELIB_barcodes.tsv',sep='\\t',header=None).squeeze().str.strip().tolist()"
   ]
  },
  {
   "cell_type": "code",
   "execution_count": null,
   "metadata": {},
   "outputs": [],
   "source": [
    "list_AEC13DGELIB_barcodes = [sub.replace('-1', '-2') for sub in list_AEC13DGELIB_barcodes]\n",
    "list_AEC23DGELIB_barcodes = [sub.replace('-1', '-3') for sub in list_AEC23DGELIB_barcodes]\n",
    "list_AEP13DGELIB_barcodes = [sub.replace('-1', '-4') for sub in list_AEP13DGELIB_barcodes]\n",
    "list_AEP23DGELIB_barcodes = [sub.replace('-1', '-5') for sub in list_AEP23DGELIB_barcodes]\n",
    "list_AEPC13DGELIB_barcodes = [sub.replace('-1', '-6') for sub in list_AEPC13DGELIB_barcodes]\n",
    "list_AEPC23DGELIB_barcodes = [sub.replace('-1', '-7') for sub in list_AEPC23DGELIB_barcodes]\n",
    "list_AV3DGELIB_barcodes = [sub.replace('-1', '-8') for sub in list_AV3DGELIB_barcodes]\n",
    "list_BE3DGELIB_barcodes = [sub.replace('-1', '-9') for sub in list_BE3DGELIB_barcodes]\n",
    "list_BEC13DGELIB_barcodes = [sub.replace('-1', '-10') for sub in list_BEC13DGELIB_barcodes]\n",
    "list_BEC23DGELIB_barcodes = [sub.replace('-1', '-11') for sub in list_BEC23DGELIB_barcodes]\n",
    "list_BEP13DGELIB_barcodes = [sub.replace('-1', '-12') for sub in list_BEP13DGELIB_barcodes]\n",
    "list_BEP23DGELIB_barcodes = [sub.replace('-1', '-13') for sub in list_BEP23DGELIB_barcodes]\n",
    "list_BEPC13DGELIB_barcodes = [sub.replace('-1', '-14') for sub in list_BEPC13DGELIB_barcodes]\n",
    "list_BEPC23DGELIB_barcodes = [sub.replace('-1', '-15') for sub in list_BEPC23DGELIB_barcodes]\n",
    "list_BV3DGELIB_barcodes = [sub.replace('-1', '-16') for sub in list_BV3DGELIB_barcodes]"
   ]
  },
  {
   "cell_type": "code",
   "execution_count": null,
   "metadata": {},
   "outputs": [],
   "source": [
    "AE3DGELIB = adata_aggr[adata_aggr.obs.index.isin(list_AE3DGELIB_barcodes)]\n",
    "AEC13DGELIB = adata_aggr[adata_aggr.obs.index.isin(list_AEC13DGELIB_barcodes)]\n",
    "AEC23DGELIB = adata_aggr[adata_aggr.obs.index.isin(list_AEC23DGELIB_barcodes)]\n",
    "AEP13DGELIB = adata_aggr[adata_aggr.obs.index.isin(list_AEP13DGELIB_barcodes)]\n",
    "AEP23DGELIB = adata_aggr[adata_aggr.obs.index.isin(list_AEP23DGELIB_barcodes)]\n",
    "AEPC13DGELIB = adata_aggr[adata_aggr.obs.index.isin(list_AEPC13DGELIB_barcodes)]\n",
    "AEPC23DGELIB = adata_aggr[adata_aggr.obs.index.isin(list_AEPC23DGELIB_barcodes)]\n",
    "AV3DGELIB = adata_aggr[adata_aggr.obs.index.isin(list_AV3DGELIB_barcodes)]\n",
    "BE3DGELIB = adata_aggr[adata_aggr.obs.index.isin(list_BE3DGELIB_barcodes)]\n",
    "BEC13DGELIB = adata_aggr[adata_aggr.obs.index.isin(list_BEC13DGELIB_barcodes)]\n",
    "BEC23DGELIB = adata_aggr[adata_aggr.obs.index.isin(list_BEC23DGELIB_barcodes)]\n",
    "BEP13DGELIB = adata_aggr[adata_aggr.obs.index.isin(list_BEP13DGELIB_barcodes)]\n",
    "BEP23DGELIB = adata_aggr[adata_aggr.obs.index.isin(list_BEP23DGELIB_barcodes)]\n",
    "BEPC13DGELIB = adata_aggr[adata_aggr.obs.index.isin(list_BEPC13DGELIB_barcodes)]\n",
    "BEPC23DGELIB = adata_aggr[adata_aggr.obs.index.isin(list_BEPC23DGELIB_barcodes)]\n",
    "BV3DGELIB = adata_aggr[adata_aggr.obs.index.isin(list_BV3DGELIB_barcodes)]"
   ]
  },
  {
   "cell_type": "code",
   "execution_count": null,
   "metadata": {},
   "outputs": [],
   "source": [
    "#annotate samples\n",
    "AE3DGELIB.obs[\"treatment\"] = \"E\"\n",
    "AE3DGELIB.obs[\"run\"] = \"A\""
   ]
  },
  {
   "cell_type": "code",
   "execution_count": null,
   "metadata": {},
   "outputs": [],
   "source": [
    "AEC13DGELIB.obs[\"treatment\"] = \"EC\"\n",
    "AEC13DGELIB.obs[\"run\"] = \"A\""
   ]
  },
  {
   "cell_type": "code",
   "execution_count": null,
   "metadata": {},
   "outputs": [],
   "source": [
    "AEC23DGELIB.obs[\"treatment\"] = \"EC\"\n",
    "AEC23DGELIB.obs[\"run\"] = \"A\""
   ]
  },
  {
   "cell_type": "code",
   "execution_count": null,
   "metadata": {},
   "outputs": [],
   "source": [
    "AEP13DGELIB.obs[\"treatment\"] = \"EP\"\n",
    "AEP13DGELIB.obs[\"run\"] = \"A\""
   ]
  },
  {
   "cell_type": "code",
   "execution_count": null,
   "metadata": {},
   "outputs": [],
   "source": [
    "AEP23DGELIB.obs[\"treatment\"] = \"EP\"\n",
    "AEP23DGELIB.obs[\"run\"] = \"A\""
   ]
  },
  {
   "cell_type": "code",
   "execution_count": null,
   "metadata": {},
   "outputs": [],
   "source": [
    "AEPC13DGELIB.obs[\"treatment\"] = \"EPC\"\n",
    "AEPC13DGELIB.obs[\"run\"] = \"A\""
   ]
  },
  {
   "cell_type": "code",
   "execution_count": null,
   "metadata": {},
   "outputs": [],
   "source": [
    "AEPC23DGELIB.obs[\"treatment\"] = \"EPC\"\n",
    "AEPC23DGELIB.obs[\"run\"] = \"A\""
   ]
  },
  {
   "cell_type": "code",
   "execution_count": null,
   "metadata": {},
   "outputs": [],
   "source": [
    "AV3DGELIB.obs[\"treatment\"] = \"V\"\n",
    "AV3DGELIB.obs[\"run\"] = \"A\""
   ]
  },
  {
   "cell_type": "code",
   "execution_count": null,
   "metadata": {},
   "outputs": [],
   "source": [
    "BE3DGELIB.obs[\"treatment\"] = \"E\"\n",
    "BE3DGELIB.obs[\"run\"] = \"B\""
   ]
  },
  {
   "cell_type": "code",
   "execution_count": null,
   "metadata": {},
   "outputs": [],
   "source": [
    "BEC13DGELIB.obs[\"treatment\"] = \"EC\"\n",
    "BEC13DGELIB.obs[\"run\"] = \"B\""
   ]
  },
  {
   "cell_type": "code",
   "execution_count": null,
   "metadata": {},
   "outputs": [],
   "source": [
    "BEC23DGELIB.obs[\"treatment\"] = \"EC\"\n",
    "BEC23DGELIB.obs[\"run\"] = \"B\""
   ]
  },
  {
   "cell_type": "code",
   "execution_count": null,
   "metadata": {},
   "outputs": [],
   "source": [
    "BEP13DGELIB.obs[\"treatment\"] = \"EP\"\n",
    "BEP13DGELIB.obs[\"run\"] = \"B\""
   ]
  },
  {
   "cell_type": "code",
   "execution_count": null,
   "metadata": {},
   "outputs": [],
   "source": [
    "BEP23DGELIB.obs[\"treatment\"] = \"EP\"\n",
    "BEP23DGELIB.obs[\"run\"] = \"B\""
   ]
  },
  {
   "cell_type": "code",
   "execution_count": null,
   "metadata": {},
   "outputs": [],
   "source": [
    "BEPC13DGELIB.obs[\"treatment\"] = \"EPC\"\n",
    "BEPC13DGELIB.obs[\"run\"] = \"B\""
   ]
  },
  {
   "cell_type": "code",
   "execution_count": null,
   "metadata": {},
   "outputs": [],
   "source": [
    "BEPC23DGELIB.obs[\"treatment\"] = \"EPC\"\n",
    "BEPC23DGELIB.obs[\"run\"] = \"B\""
   ]
  },
  {
   "cell_type": "code",
   "execution_count": null,
   "metadata": {},
   "outputs": [],
   "source": [
    "BV3DGELIB.obs[\"treatment\"] = \"V\"\n",
    "BV3DGELIB.obs[\"run\"] = \"B\""
   ]
  },
  {
   "cell_type": "code",
   "execution_count": null,
   "metadata": {},
   "outputs": [],
   "source": [
    "run_A = AE3DGELIB.concatenate(AEC13DGELIB, AEC23DGELIB, AEP13DGELIB, AEP23DGELIB, AEPC13DGELIB, AEPC23DGELIB, AV3DGELIB, batch_key='batch_sub')\n",
    "run_B = BE3DGELIB.concatenate(BEC13DGELIB, BEC23DGELIB, BEP13DGELIB, BEP23DGELIB, BEPC13DGELIB, BEPC23DGELIB, BV3DGELIB, batch_key='batch_sub')"
   ]
  },
  {
   "cell_type": "code",
   "execution_count": null,
   "metadata": {},
   "outputs": [],
   "source": [
    "adata = run_A.concatenate(run_B, pilot1, pilot2, batch_key='batch')"
   ]
  },
  {
   "cell_type": "code",
   "execution_count": null,
   "metadata": {},
   "outputs": [],
   "source": [
    "#concatenate all data together \n",
    "adata"
   ]
  },
  {
   "cell_type": "code",
   "execution_count": null,
   "metadata": {},
   "outputs": [],
   "source": [
    "#basic filtering\n",
    "sc.pp.filter_cells(adata, min_genes=200)\n",
    "sc.pp.filter_genes(adata, min_cells=3)"
   ]
  },
  {
   "cell_type": "code",
   "execution_count": null,
   "metadata": {},
   "outputs": [],
   "source": [
    "mito_genes = adata.var['gene_short_name'].str.startswith('mt-')\n",
    "# for each cell compute fraction of counts in mito genes vs. all genes\n",
    "adata.obs['percent_mito'] = np.sum(adata[:, mito_genes].X, axis=1) / np.sum(adata.X, axis=1)\n",
    "# add the total counts per cell as observations-annotation to adata\n",
    "adata.obs['n_counts'] = adata.X.sum(axis=1)"
   ]
  },
  {
   "cell_type": "code",
   "execution_count": null,
   "metadata": {},
   "outputs": [],
   "source": [
    "#filtering\n",
    "adata = adata[adata.obs['n_genes'] < 8000, :]\n",
    "adata = adata[adata.obs['percent_mito'] < 0.15, :]"
   ]
  },
  {
   "cell_type": "code",
   "execution_count": null,
   "metadata": {},
   "outputs": [],
   "source": [
    "adata"
   ]
  },
  {
   "cell_type": "code",
   "execution_count": null,
   "metadata": {},
   "outputs": [],
   "source": [
    "sc.pl.highest_expr_genes(adata, n_top=20, gene_symbols = 'gene_short_name')"
   ]
  },
  {
   "cell_type": "code",
   "execution_count": null,
   "metadata": {},
   "outputs": [],
   "source": [
    "min_genes_threshold = 200 # minimum genes threshold\n",
    "max_genes_threshold = 8000 # maximum genes threshold\n",
    "min_cells_threshold = 3 # minimum cells threshold"
   ]
  },
  {
   "cell_type": "code",
   "execution_count": null,
   "metadata": {},
   "outputs": [],
   "source": [
    "sc.pp.filter_cells(adata, min_genes=min_genes_threshold)\n",
    "sc.pp.filter_cells(adata, max_genes=max_genes_threshold)\n",
    "sc.pp.filter_genes(adata, min_cells=min_cells_threshold)"
   ]
  },
  {
   "cell_type": "code",
   "execution_count": null,
   "metadata": {},
   "outputs": [],
   "source": [
    "adata.var['mt'] = adata.var['gene_short_name'].str.startswith('mt-')  # annotate the group of mitochondrial genes as 'mt'\n",
    "sc.pp.calculate_qc_metrics(adata, qc_vars=['mt'], percent_top=None, log1p=False, inplace=True)"
   ]
  },
  {
   "cell_type": "code",
   "execution_count": null,
   "metadata": {},
   "outputs": [],
   "source": [
    "sc.pl.violin(adata, ['n_genes_by_counts', 'total_counts', 'pct_counts_mt'],\n",
    "             jitter=0.4, multi_panel=True)"
   ]
  },
  {
   "cell_type": "code",
   "execution_count": null,
   "metadata": {},
   "outputs": [],
   "source": [
    "fig, axs = plt.subplots(1, 2, figsize=(8,4),constrained_layout=True)\n",
    "sc.pl.scatter(adata, x='total_counts', y='pct_counts_mt', ax=axs[0], show=False)\n",
    "sc.pl.scatter(adata, x='total_counts', y='n_genes_by_counts', ax=axs[1], show=False)"
   ]
  },
  {
   "cell_type": "code",
   "execution_count": null,
   "metadata": {},
   "outputs": [],
   "source": [
    "fig, axs = plt.subplots(1, 3, figsize=(12,4),constrained_layout=True)\n",
    "sb.distplot(adata.obs['total_counts'], kde=False, bins=60,  ax=axs[0])\n",
    "sb.distplot(adata.obs['n_genes_by_counts'], kde=False, bins=60,  ax=axs[1])\n",
    "sb.distplot(adata.obs['pct_counts_mt'], kde=False, bins=100,  ax=axs[2])"
   ]
  },
  {
   "cell_type": "code",
   "execution_count": null,
   "metadata": {},
   "outputs": [],
   "source": [
    "genes_by_counts_threshold = 8000 # genes threshold\n",
    "mt_count_threshold = 15 # mt threshold"
   ]
  },
  {
   "cell_type": "code",
   "execution_count": null,
   "metadata": {},
   "outputs": [],
   "source": [
    "#filter\n",
    "adata = adata[adata.obs.n_genes_by_counts < genes_by_counts_threshold, :]\n",
    "adata = adata[adata.obs.pct_counts_mt < mt_count_threshold, :]"
   ]
  },
  {
   "cell_type": "code",
   "execution_count": null,
   "metadata": {},
   "outputs": [],
   "source": [
    "target_sum_threshold = 1e4"
   ]
  },
  {
   "cell_type": "code",
   "execution_count": null,
   "metadata": {},
   "outputs": [],
   "source": [
    "#normalize\n",
    "sc.pp.normalize_total(adata, target_sum=target_sum_threshold)"
   ]
  },
  {
   "cell_type": "code",
   "execution_count": null,
   "metadata": {},
   "outputs": [],
   "source": [
    "sc.pp.log1p(adata)"
   ]
  },
  {
   "cell_type": "code",
   "execution_count": null,
   "metadata": {},
   "outputs": [],
   "source": [
    "threshold_1 = 0.0125\n",
    "threshold_2 = 3\n",
    "threshold_3 = 0.5"
   ]
  },
  {
   "cell_type": "code",
   "execution_count": null,
   "metadata": {},
   "outputs": [],
   "source": [
    "#highly variable genes\n",
    "sc.pp.highly_variable_genes(adata, min_mean=threshold_1, max_mean=threshold_2, min_disp=threshold_3)"
   ]
  },
  {
   "cell_type": "code",
   "execution_count": null,
   "metadata": {},
   "outputs": [],
   "source": [
    "sc.pl.highly_variable_genes(adata)"
   ]
  },
  {
   "cell_type": "code",
   "execution_count": null,
   "metadata": {},
   "outputs": [],
   "source": [
    "adata.raw = adata"
   ]
  },
  {
   "cell_type": "code",
   "execution_count": null,
   "metadata": {},
   "outputs": [],
   "source": [
    "adata = adata[:, adata.var.highly_variable]"
   ]
  },
  {
   "cell_type": "code",
   "execution_count": null,
   "metadata": {},
   "outputs": [],
   "source": [
    "#regress out total counts and mt percentage\n",
    "sc.pp.regress_out(adata, ['total_counts', 'pct_counts_mt'])"
   ]
  },
  {
   "cell_type": "markdown",
   "metadata": {},
   "source": [
    "Scale each gene to unit variance. Clip values exceeding standard deviation 10. "
   ]
  },
  {
   "cell_type": "code",
   "execution_count": null,
   "metadata": {},
   "outputs": [],
   "source": [
    "sc.pp.scale(adata, max_value=10)"
   ]
  },
  {
   "cell_type": "code",
   "execution_count": null,
   "metadata": {},
   "outputs": [],
   "source": [
    "adata"
   ]
  },
  {
   "cell_type": "markdown",
   "metadata": {},
   "source": [
    "## Batch correction"
   ]
  },
  {
   "cell_type": "code",
   "execution_count": null,
   "metadata": {},
   "outputs": [],
   "source": [
    "#create a new object with lognormalized counts\n",
    "adata_combat = sc.AnnData(X=adata.raw.X, var=adata.raw.var, obs = adata.obs)\n",
    "\n",
    "#store the raw data \n",
    "adata_combat.raw = adata_combat\n",
    "\n",
    "#run combat\n",
    "sc.pp.combat(adata_combat, key='batch')"
   ]
  },
  {
   "cell_type": "code",
   "execution_count": null,
   "metadata": {},
   "outputs": [],
   "source": [
    "sc.pp.highly_variable_genes(adata_combat)\n",
    "print(\"Highly variable genes: %d\"%sum(adata_combat.var.highly_variable))\n",
    "sc.pl.highly_variable_genes(adata_combat)\n",
    "\n",
    "#run pca\n",
    "sc.pp.pca(adata_combat, n_comps=30, use_highly_variable=True, svd_solver='arpack')\n",
    "\n",
    "sc.pp.neighbors(adata_combat, n_pcs=30)\n",
    "\n",
    "sc.tl.umap(adata_combat)\n",
    "sc.tl.tsne(adata_combat, n_pcs=30)"
   ]
  },
  {
   "cell_type": "code",
   "execution_count": null,
   "metadata": {},
   "outputs": [],
   "source": [
    "fig, axs = plt.subplots(2, 1, figsize=(8,8),constrained_layout=True)\n",
    "sc.pl.tsne(adata_combat, color=\"batch\", title=\"Combat tsne\", ax=axs[0,0], show=False)\n",
    "sc.pl.umap(adata_combat, color=\"batch\", title=\"Combat umap\", ax=axs[1,0], show=False)"
   ]
  },
  {
   "cell_type": "markdown",
   "metadata": {},
   "source": [
    "## Cluster data"
   ]
  },
  {
   "cell_type": "code",
   "execution_count": null,
   "metadata": {},
   "outputs": [],
   "source": [
    "adata_combat"
   ]
  },
  {
   "cell_type": "code",
   "execution_count": null,
   "metadata": {},
   "outputs": [],
   "source": [
    "sc.pl.umap(adata_combat, color=[\"batch\", \"treatment\"])"
   ]
  },
  {
   "cell_type": "code",
   "execution_count": null,
   "metadata": {},
   "outputs": [],
   "source": [
    "threshold_1 = 0.0125\n",
    "threshold_2 = 3\n",
    "threshold_3 = 0.5"
   ]
  },
  {
   "cell_type": "code",
   "execution_count": null,
   "metadata": {},
   "outputs": [],
   "source": [
    "sc.pp.highly_variable_genes(adata_combat, min_mean=threshold_1, max_mean=threshold_2, min_disp=threshold_3)"
   ]
  },
  {
   "cell_type": "code",
   "execution_count": null,
   "metadata": {},
   "outputs": [],
   "source": [
    "adata_combat = adata_combat[:, adata_combat.var.highly_variable]"
   ]
  },
  {
   "cell_type": "code",
   "execution_count": null,
   "metadata": {},
   "outputs": [],
   "source": [
    "adata_combat"
   ]
  },
  {
   "cell_type": "code",
   "execution_count": null,
   "metadata": {},
   "outputs": [],
   "source": [
    "#check expression of marker genes\n",
    "sc.pl.umap(adata_combat, color=['Lcn2', 'Wfdc2'], gene_symbols = 'gene_short_name')\n",
    "sc.pl.umap(adata_combat, color=['Mmp2', 'Col12a1'], gene_symbols = 'gene_short_name')\n",
    "sc.pl.umap(adata_combat, color=['Adgre1', 'Itgam', 'Plac8', 'Cd14', 'Cd84', 'S100a8', 'S100a9', 'Ly6g', 'Ly6c1'], gene_symbols = 'gene_short_name')\n",
    "sc.pl.umap(adata_combat, color=['Adgre1', 'Itgam', 'Plac8', 'Cd14', 'Cd84', 'Tnf', 'Ly6g', 'Ly6c1'], gene_symbols = 'gene_short_name')\n",
    "sc.pl.umap(adata_combat, color=['Cd3e', 'Cd4', 'Foxp3', 'Icos', 'Il2ra', 'Ctla4', 'Pdcd1'], gene_symbols = 'gene_short_name')\n",
    "sc.pl.umap(adata_combat, color=['Cd3e', 'Cd4'], gene_symbols = 'gene_short_name')\n",
    "sc.pl.umap(adata_combat, color=['Cd3e', 'Cd8a'], gene_symbols = 'gene_short_name')\n",
    "sc.pl.umap(adata_combat, color=['Cd3e', 'Cd19'], gene_symbols = 'gene_short_name')\n",
    "sc.pl.umap(adata_combat, color=['Adgre1', 'Itgam', 'Cx3cr1', 'Ccr2'], gene_symbols = 'gene_short_name')\n",
    "sc.pl.umap(adata_combat, color=['Adgre1', 'Itgam', 'Ccr5', 'Il6', 'Il1b', 'Cd86', 'H2-Ab1'], gene_symbols = 'gene_short_name')\n",
    "sc.pl.umap(adata_combat, color=['Adgre1', 'Itgam', 'Ccr5', 'Mrc1', 'Il10', 'Cd163', 'Arg1'], gene_symbols = 'gene_short_name')\n",
    "sc.pl.umap(adata_combat, color=['Itgax', 'Flt3', 'Itgae', 'Btla', 'H2-Ab1', 'Ccr7'], gene_symbols = 'gene_short_name')"
   ]
  },
  {
   "cell_type": "code",
   "execution_count": null,
   "metadata": {},
   "outputs": [],
   "source": [
    "#cluster\n",
    "resolution_number = 0.1 \n",
    "sc.tl.louvain(adata_combat, resolution = resolution_number, key_added = \"louvain\")\n",
    "sc.pl.umap(adata_combat, color=['louvain'])"
   ]
  },
  {
   "cell_type": "code",
   "execution_count": null,
   "metadata": {},
   "outputs": [],
   "source": [
    "#find differentially expressed genes\n",
    "sc.tl.rank_genes_groups(adata_combat, 'louvain', method='wilcoxon', gene_symbols = 'gene_short_name')"
   ]
  },
  {
   "cell_type": "code",
   "execution_count": null,
   "metadata": {},
   "outputs": [],
   "source": [
    "#create a dictionary to map cluster to annotation label\n",
    "cluster2annotation = {\n",
    "     '0': 'Cancer',\n",
    "     '1': 'Mature myeloid',\n",
    "     '2': 'MDSCs',\n",
    "     '3': 'CAFs',\n",
    "     '4': 'Endothelial',\n",
    "     '5': 'T cells'\n",
    "}\n",
    "\n",
    "#add a new `.obs` column called `cell type` by mapping clusters to annotation using pandas `map` function\n",
    "adata_combat.obs['clusters'] = adata_combat.obs['louvain'].map(cluster2annotation).astype('category')"
   ]
  },
  {
   "cell_type": "code",
   "execution_count": null,
   "metadata": {},
   "outputs": [],
   "source": [
    "sc.pl.umap(adata_combat, color=['louvain', 'clusters'])"
   ]
  },
  {
   "cell_type": "code",
   "execution_count": null,
   "metadata": {},
   "outputs": [],
   "source": [
    "marker_genes_dict = {\n",
    "    'Cancer': ['Lcn2', 'Wfdc2', 'Col9a1'], \n",
    "    'Mature myeloid': ['Csf1r', 'Adgre1', 'Cx3cr1'],\n",
    "    'MDSCs': ['Wfdc17', 'S100a9', 'Cd14'],\n",
    "    'CAFs': ['Mmp2', 'Col12a1', 'Bgn'],\n",
    "    'Endothelial': ['Ly6c1', 'Pecam1', 'Egfl7'],\n",
    "    'T cells': ['Cd3e', 'Icos', 'Cd5']\n",
    "}"
   ]
  },
  {
   "cell_type": "code",
   "execution_count": null,
   "metadata": {},
   "outputs": [],
   "source": [
    "sc.pl.dotplot(adata_combat, marker_genes_dict, 'clusters', dendrogram=False, swap_axes=True, gene_symbols = 'gene_short_name')"
   ]
  },
  {
   "cell_type": "code",
   "execution_count": null,
   "metadata": {},
   "outputs": [],
   "source": []
  },
  {
   "cell_type": "code",
   "execution_count": null,
   "metadata": {},
   "outputs": [],
   "source": []
  },
  {
   "cell_type": "code",
   "execution_count": null,
   "metadata": {},
   "outputs": [],
   "source": []
  }
 ],
 "metadata": {
  "anaconda-cloud": {},
  "kernelspec": {
   "display_name": "Python 3 (ipykernel)",
   "language": "python",
   "name": "python3"
  },
  "language_info": {
   "codemirror_mode": {
    "name": "ipython",
    "version": 3
   },
   "file_extension": ".py",
   "mimetype": "text/x-python",
   "name": "python",
   "nbconvert_exporter": "python",
   "pygments_lexer": "ipython3",
   "version": "3.10.10"
  }
 },
 "nbformat": 4,
 "nbformat_minor": 4
}
